{
  "cells": [
    {
      "cell_type": "markdown",
      "source": [
        "Oficina Logica 2.\n",
        "1. Escreva um programa que exiba o resultado da soma 25+17."
      ],
      "metadata": {
        "id": "571hu98URrkG"
      }
    },
    {
      "cell_type": "code",
      "source": [
        "valor_1 = 25\n",
        "valor_2 = 17\n",
        "soma = valor_1 + valor_2\n",
        "print(f'A soma de {valor_1} e {valor_2} é: {soma}.')"
      ],
      "metadata": {
        "colab": {
          "base_uri": "https://localhost:8080/"
        },
        "id": "Z3wnfiroRsXO",
        "outputId": "a892ee03-9cd1-4f8b-e99b-5c08bc1f5324"
      },
      "execution_count": 3,
      "outputs": [
        {
          "output_type": "stream",
          "name": "stdout",
          "text": [
            "A soma de 25 e 17 é: 42.\n"
          ]
        }
      ]
    },
    {
      "cell_type": "markdown",
      "source": [
        "2. Faça um programa que calcule e exiba o resultado da expressão (12×8)+(45÷5)"
      ],
      "metadata": {
        "id": "dpu-wSjbSLKR"
      }
    },
    {
      "cell_type": "code",
      "source": [
        "expressao = (12*8)+(45/5)\n",
        "print(f'O resultado da expressão (12×8)+(45÷5) é: {expressao}.')"
      ],
      "metadata": {
        "colab": {
          "base_uri": "https://localhost:8080/"
        },
        "id": "s1hczzM4SM88",
        "outputId": "b7976709-89d1-402b-bd38-abf87c7d0c8a"
      },
      "execution_count": 4,
      "outputs": [
        {
          "output_type": "stream",
          "name": "stdout",
          "text": [
            "O resultado da expressão (12×8)+(45÷5) é: 105.0.\n"
          ]
        }
      ]
    },
    {
      "cell_type": "markdown",
      "source": [
        "3. Crie um programa que exiba o valor da área de um círculo com raio 5. Fórmula: Área=π×raio² -  π=3.14159."
      ],
      "metadata": {
        "id": "ImLVvpoUSkjq"
      }
    },
    {
      "cell_type": "code",
      "source": [
        "raio = 5\n",
        "pi = 3.14159\n",
        "area = pi*raio**2\n",
        "print(f'A area de um circulo com raio de {raio} é: {area}.')"
      ],
      "metadata": {
        "colab": {
          "base_uri": "https://localhost:8080/"
        },
        "id": "464oOe9ISmRj",
        "outputId": "e5462148-0acd-4054-e7e0-cecb73f86404"
      },
      "execution_count": 6,
      "outputs": [
        {
          "output_type": "stream",
          "name": "stdout",
          "text": [
            "A area de um circulo com raio de 5 é: 78.53975.\n"
          ]
        }
      ]
    },
    {
      "cell_type": "markdown",
      "source": [
        "4. Faça um programa que exiba o resultado do resto da divisão de 100 por 7."
      ],
      "metadata": {
        "id": "cmqUlh_xTZBS"
      }
    },
    {
      "cell_type": "code",
      "source": [
        "valor_1 = 100\n",
        "valor_2 = 7\n",
        "divisao = 100/7\n",
        "print(f'A divisao de {valor_1} e {valor_2} é: {divisao}.')"
      ],
      "metadata": {
        "colab": {
          "base_uri": "https://localhost:8080/"
        },
        "id": "lOr5FMC2Tac6",
        "outputId": "fbe733d3-c875-4ddd-b357-7e8db8ad33ef"
      },
      "execution_count": 7,
      "outputs": [
        {
          "output_type": "stream",
          "name": "stdout",
          "text": [
            "A divisao de 100 e 7 é: 14.285714285714286.\n"
          ]
        }
      ]
    }
  ],
  "metadata": {
    "colab": {
      "provenance": []
    },
    "kernelspec": {
      "display_name": "Python 3",
      "name": "python3"
    },
    "language_info": {
      "name": "python"
    }
  },
  "nbformat": 4,
  "nbformat_minor": 0
}