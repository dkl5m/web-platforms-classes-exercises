{
  "nbformat": 4,
  "nbformat_minor": 0,
  "metadata": {
    "colab": {
      "provenance": []
    },
    "kernelspec": {
      "name": "python3",
      "display_name": "Python 3"
    },
    "language_info": {
      "name": "python"
    }
  },
  "cells": [
    {
      "cell_type": "markdown",
      "source": [
        "Oficina Logica 3.\n",
        "1. Crie um programa que verifique se o número 15 é maior que 10 e exiba \"Sim\" ou \"Não\" no console."
      ],
      "metadata": {
        "id": "JI33JiIukmhB"
      }
    },
    {
      "cell_type": "code",
      "execution_count": 1,
      "metadata": {
        "colab": {
          "base_uri": "https://localhost:8080/"
        },
        "id": "shc69ECkkitU",
        "outputId": "f410667e-e141-4206-d2b2-9a1fa26c4bc6"
      },
      "outputs": [
        {
          "output_type": "stream",
          "name": "stdout",
          "text": [
            "Sim\n"
          ]
        }
      ],
      "source": [
        "# Verifica se 15 é maior que 10\n",
        "if 15 > 10:\n",
        "    print(\"Sim\")\n",
        "else:\n",
        "    print(\"Não\")\n"
      ]
    },
    {
      "cell_type": "markdown",
      "source": [
        "2. Escreva um programa que use o operador ** para calcular 2³ e exiba o resultado."
      ],
      "metadata": {
        "id": "Fhv2pxmLk_V-"
      }
    },
    {
      "cell_type": "code",
      "source": [
        "# Calcula 2 elevado a 3 (2³)\n",
        "resultado = 2 ** 3\n",
        "print(resultado)\n"
      ],
      "metadata": {
        "colab": {
          "base_uri": "https://localhost:8080/"
        },
        "id": "OIIafWhIlBhk",
        "outputId": "c240e6c8-4126-4f4d-9840-1838e87dcfb1"
      },
      "execution_count": 2,
      "outputs": [
        {
          "output_type": "stream",
          "name": "stdout",
          "text": [
            "8\n"
          ]
        }
      ]
    },
    {
      "cell_type": "markdown",
      "source": [
        "3. Crie um programa que use o operador * para repetir a string \"Oi!\" cinco vezes."
      ],
      "metadata": {
        "id": "-v_wRagblCu4"
      }
    },
    {
      "cell_type": "code",
      "source": [
        "# Repete a string \"Oi!\" 5 vezes\n",
        "print(\"Oi! \" * 5)\n"
      ],
      "metadata": {
        "id": "iUrLSorolLGI"
      },
      "execution_count": null,
      "outputs": []
    },
    {
      "cell_type": "markdown",
      "source": [
        "4. Escreva um programa que calcule a média de três números inteiros 10, 20 e 30, e exiba no console se a média é maior, menor ou igual a 20."
      ],
      "metadata": {
        "id": "FPLIo-LplLpz"
      }
    },
    {
      "cell_type": "code",
      "source": [
        "# Calcula a média dos números 10, 20 e 30\n",
        "media = (10 + 20 + 30) / 3\n",
        "\n",
        "# Verifica se a média é maior, menor ou igual a 20\n",
        "if media > 20:\n",
        "    print(\"A média é maior que 20.\")\n",
        "elif media < 20:\n",
        "    print(\"A média é menor que 20.\")\n",
        "else:\n",
        "    print(\"A média é igual a 20.\")\n"
      ],
      "metadata": {
        "colab": {
          "base_uri": "https://localhost:8080/"
        },
        "id": "r0ibQsKhlTpx",
        "outputId": "1eb6d174-f0ba-4e5c-ad21-0d666080bff6"
      },
      "execution_count": 3,
      "outputs": [
        {
          "output_type": "stream",
          "name": "stdout",
          "text": [
            "A média é igual a 20.\n"
          ]
        }
      ]
    },
    {
      "cell_type": "markdown",
      "source": [
        "5. Crie um programa que determine se o número 45 é divisível por 3 e por 5 simultaneamente. O programa deve exibir \"Divisível por 3 e 5\" ou \"Não é divisível ."
      ],
      "metadata": {
        "id": "m6YSS5Q-lT-Z"
      }
    },
    {
      "cell_type": "code",
      "source": [
        "# Verifica se 45 é divisível por 3 e por 5\n",
        "if 45 % 3 == 0 and 45 % 5 == 0:\n",
        "    print(\"Divisível por 3 e 5\")\n",
        "else:\n",
        "    print(\"Não é divisível por 3 e 5\")\n"
      ],
      "metadata": {
        "colab": {
          "base_uri": "https://localhost:8080/"
        },
        "id": "0ivH3eCklVpY",
        "outputId": "7aabe8bd-1356-4193-8d16-5498de1e16d5"
      },
      "execution_count": 4,
      "outputs": [
        {
          "output_type": "stream",
          "name": "stdout",
          "text": [
            "Divisível por 3 e 5\n"
          ]
        }
      ]
    }
  ]
}