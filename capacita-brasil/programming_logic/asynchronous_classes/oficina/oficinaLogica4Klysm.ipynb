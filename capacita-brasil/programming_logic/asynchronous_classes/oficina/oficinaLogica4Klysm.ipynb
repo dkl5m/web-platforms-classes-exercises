{
  "nbformat": 4,
  "nbformat_minor": 0,
  "metadata": {
    "colab": {
      "provenance": []
    },
    "kernelspec": {
      "name": "python3",
      "display_name": "Python 3"
    },
    "language_info": {
      "name": "python"
    }
  },
  "cells": [
    {
      "cell_type": "markdown",
      "source": [
        "Oficina Logica 4\n",
        "1. Crie um programa que use um laço for para imprimir os números de 1 a 5 no console."
      ],
      "metadata": {
        "id": "29YGklwPTtN8"
      }
    },
    {
      "cell_type": "code",
      "source": [
        "# Declara o laco\n",
        "for iter in range(5):\n",
        "  iter += 1         # Incrementa o iterador\n",
        "  print(f'{iter}')  # Exibe o valor"
      ],
      "metadata": {
        "colab": {
          "base_uri": "https://localhost:8080/"
        },
        "id": "r8ijAFaSTzAm",
        "outputId": "f494c3ed-8b9d-4c9c-e5a3-f49a30b266d2"
      },
      "execution_count": 2,
      "outputs": [
        {
          "output_type": "stream",
          "name": "stdout",
          "text": [
            "1\n",
            "2\n",
            "3\n",
            "4\n",
            "5\n"
          ]
        }
      ]
    },
    {
      "cell_type": "markdown",
      "source": [
        "2. Escreva um programa que declare uma lista com os números [10, 20, 30, 40, 50] e exiba o primeiro elemento."
      ],
      "metadata": {
        "id": "mlxfs9lzTzbj"
      }
    },
    {
      "cell_type": "code",
      "source": [
        "# Declara a lista\n",
        "num_list = [10, 20, 30, 40, 50]\n",
        "\n",
        "# Exibe o primeiro elemento\n",
        "print(f'{num_list[0]}')"
      ],
      "metadata": {
        "colab": {
          "base_uri": "https://localhost:8080/"
        },
        "id": "cMIQxHPXT5nN",
        "outputId": "f4b61711-a73f-4ade-c1ae-ef246762c315"
      },
      "execution_count": 14,
      "outputs": [
        {
          "output_type": "stream",
          "name": "stdout",
          "text": [
            "10\n"
          ]
        }
      ]
    },
    {
      "cell_type": "markdown",
      "source": [
        "3. Faça um programa que use um laço while para somar todos os números de 1 a 10 e exiba o resultado no console."
      ],
      "metadata": {
        "id": "RtZ8Xv9WT5_t"
      }
    },
    {
      "cell_type": "code",
      "source": [
        "# Inicializa as variaveis soma e iter (iterador)\n",
        "soma = 0; iter = 1\n",
        "\n",
        "# Laco while indo de 1 a 10\n",
        "while iter <= 10:\n",
        "  soma += iter            # Adiciona o numero atual na soma\n",
        "  iter += 1               # Incrementa o numero\n",
        "print(f'Soma: {soma}.')   # Exibe o resultado"
      ],
      "metadata": {
        "colab": {
          "base_uri": "https://localhost:8080/"
        },
        "id": "_DzIohPFT-CA",
        "outputId": "97657182-09c8-497b-cc3b-f8001fa673e8"
      },
      "execution_count": 13,
      "outputs": [
        {
          "output_type": "stream",
          "name": "stdout",
          "text": [
            "Soma: 55.\n"
          ]
        }
      ]
    },
    {
      "cell_type": "markdown",
      "source": [
        "4. Crie um programa que declare um dicionário com as seguintes chaves e valores: {\"nome\": \"Ana\", \"idade\": 25, \"cidade\": \"Fortaleza\"} e exiba o valor associado à chave \"idade\"."
      ],
      "metadata": {
        "id": "N_MRYrjcT-XA"
      }
    },
    {
      "cell_type": "code",
      "source": [
        "# Declara o dicionario\n",
        "four_dict =  {\"nome\": \"Ana\", \"idade\": 25, \"cidade\": \"Fortaleza\"}\n",
        "# Exibe o valor da chave idade\n",
        "print(f'Idade: {four_dict[\"idade\"]}.')"
      ],
      "metadata": {
        "colab": {
          "base_uri": "https://localhost:8080/"
        },
        "id": "347zWRweUBQN",
        "outputId": "1f4f4544-1129-48f9-d389-4968b68830cb"
      },
      "execution_count": 16,
      "outputs": [
        {
          "output_type": "stream",
          "name": "stdout",
          "text": [
            "Idade: 25.\n"
          ]
        }
      ]
    },
    {
      "cell_type": "markdown",
      "source": [
        "5. Escreva um programa que inverta uma string utilizando um laço for. Por exemplo, para a string \"Python\", o resultado deve ser \"nohtyP\"."
      ],
      "metadata": {
        "id": "CbQiTUldUBno"
      }
    },
    {
      "cell_type": "code",
      "source": [
        "# Declara a string\n",
        "example_string = \"Python\"\n",
        "# Cria string vazia para armazenar string invertida\n",
        "inverted_string = \"\"\n",
        "\n",
        "# Laco for\n",
        "for iter in range(len(example_string)):\n",
        "  inverted_string = example_string[iter] + inverted_string\n",
        "\n",
        "# Exibe o resultado\n",
        "print(f'Texto invertido: {inverted_string}')"
      ],
      "metadata": {
        "colab": {
          "base_uri": "https://localhost:8080/"
        },
        "id": "eIH1DyE5UFJI",
        "outputId": "001fc7be-95d4-4af9-f386-ca40ab989bd0"
      },
      "execution_count": 32,
      "outputs": [
        {
          "output_type": "stream",
          "name": "stdout",
          "text": [
            "Texto invertido: nohtyP\n"
          ]
        }
      ]
    },
    {
      "cell_type": "markdown",
      "source": [
        "6. Escreva um programa que calcule a frequência de cada caractere em uma string. Por exemplo, na string \"banana\", o programa deve exibir: {'b': 1, 'a': 3, 'n': 2}."
      ],
      "metadata": {
        "id": "L03K4U7LUFbj"
      }
    },
    {
      "cell_type": "code",
      "source": [
        "# Declara a string\n",
        "string = 'banana'\n",
        "# Declara dicionario armazenador de frequencia\n",
        "frequence = {}\n",
        "\n",
        "# Laco for\n",
        "for char in string:\n",
        "  if char in frequence:\n",
        "    frequence[char] += 1 # se char ja estah no dicionario, incrementa\n",
        "  else:\n",
        "    frequence[char] = 1  # se char nao estah no dicionario, adiciona\n",
        "\n",
        "print(frequence)"
      ],
      "metadata": {
        "colab": {
          "base_uri": "https://localhost:8080/"
        },
        "id": "b9MZ7sw4UH-g",
        "outputId": "44be5bb1-9598-4102-f13a-2324d670d7b4"
      },
      "execution_count": 34,
      "outputs": [
        {
          "output_type": "stream",
          "name": "stdout",
          "text": [
            "{'b': 1, 'a': 3, 'n': 2}\n"
          ]
        }
      ]
    }
  ]
}