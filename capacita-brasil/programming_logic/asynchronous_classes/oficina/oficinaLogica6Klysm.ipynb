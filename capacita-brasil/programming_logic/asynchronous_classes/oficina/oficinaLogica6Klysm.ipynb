{
  "nbformat": 4,
  "nbformat_minor": 0,
  "metadata": {
    "colab": {
      "provenance": []
    },
    "kernelspec": {
      "name": "python3",
      "display_name": "Python 3"
    },
    "language_info": {
      "name": "python"
    }
  },
  "cells": [
    {
      "cell_type": "markdown",
      "source": [
        "\n",
        "Oficina 6\n",
        "    \n",
        "1. Escreva um código usando enumerate para exibir os índices e valores da lista [\"maçã\", \"banana\", \"uva\"]."
      ],
      "metadata": {
        "id": "wUXhGvvimySV"
      }
    },
    {
      "cell_type": "code",
      "execution_count": 2,
      "metadata": {
        "colab": {
          "base_uri": "https://localhost:8080/"
        },
        "id": "bXtA2QKhmXzN",
        "outputId": "8fefd4bd-b688-4f93-a6ba-8308e76a0e3d"
      },
      "outputs": [
        {
          "output_type": "stream",
          "name": "stdout",
          "text": [
            "1. maçã\n",
            "2. banana\n",
            "3. uva\n"
          ]
        }
      ],
      "source": [
        "# Declara a lista\n",
        "fruit_list = [\"maçã\", \"banana\", \"uva\"]\n",
        "\n",
        "# Usa enumerate para obter o indice e o nome\n",
        "for index, fruit_name in enumerate(fruit_list, start=1):\n",
        "  print(f'{index}. {fruit_name}')     # mostra o indice e nome"
      ]
    },
    {
      "cell_type": "markdown",
      "source": [
        "2. Crie uma lista com os números pares de 1 a 10 usando List Comprehension."
      ],
      "metadata": {
        "id": "8GDC7rgam6Vm"
      }
    },
    {
      "cell_type": "code",
      "source": [
        "# Declara a lista\n",
        "even_list = [x for x in range(1, 11) if x % 2 == 0]\n",
        "\n",
        "# Exibe a lista de pares\n",
        "print(even_list)"
      ],
      "metadata": {
        "colab": {
          "base_uri": "https://localhost:8080/"
        },
        "id": "Ps5lyJwRm94W",
        "outputId": "f97b5673-d036-4e95-9aff-b5acd8caf343"
      },
      "execution_count": 3,
      "outputs": [
        {
          "output_type": "stream",
          "name": "stdout",
          "text": [
            "[2, 4, 6, 8, 10]\n"
          ]
        }
      ]
    },
    {
      "cell_type": "markdown",
      "source": [
        "3. Escreva um programa que use map para multiplicar cada elemento da lista [1, 2, 3, 4] por 3."
      ],
      "metadata": {
        "id": "JCRNuqApm-VD"
      }
    },
    {
      "cell_type": "code",
      "source": [
        "# Lista de numeros\n",
        "numbers_list = [1, 2, 3, 4]\n",
        "\n",
        "# Funcao para multiplicar por 3\n",
        "def timesThree(x):\n",
        "  return x*3\n",
        "\n",
        "# Aplica funcao timesThree a todos os elementos\n",
        "result_list = map(timesThree, numbers_list)\n",
        "\n",
        "# Converte resultado de map para lista\n",
        "result_list = list(result_list)\n",
        "\n",
        "# Exibe lista\n",
        "print(result_list)"
      ],
      "metadata": {
        "colab": {
          "base_uri": "https://localhost:8080/"
        },
        "id": "6_HBZ9runBaS",
        "outputId": "c6b85c59-fa6e-4dee-9327-0ba22c16840a"
      },
      "execution_count": 6,
      "outputs": [
        {
          "output_type": "stream",
          "name": "stdout",
          "text": [
            "[3, 6, 9, 12]\n"
          ]
        }
      ]
    },
    {
      "cell_type": "markdown",
      "source": [
        "4. Escreva um programa que use enumerate e List Comprehension para criar uma lista de tuplas com os índices e valores ao quadrado de [2, 4, 6]"
      ],
      "metadata": {
        "id": "QsSfJA0QnBuT"
      }
    },
    {
      "cell_type": "code",
      "source": [
        "# Declara a lista\n",
        "numbers = [2, 4, 6]\n",
        "\n",
        "# Usa enumerate e List Comprehension\n",
        "result = [(index, valor**2) for index, valor in enumerate(numbers)]\n",
        "\n",
        "# Exibe o resultado\n",
        "print(result)\n"
      ],
      "metadata": {
        "colab": {
          "base_uri": "https://localhost:8080/"
        },
        "id": "5nxkH6qtnDmo",
        "outputId": "c82e2414-4bab-456a-aa3d-b10b869736a4"
      },
      "execution_count": 7,
      "outputs": [
        {
          "output_type": "stream",
          "name": "stdout",
          "text": [
            "[(0, 4), (1, 16), (2, 36)]\n"
          ]
        }
      ]
    }
  ]
}