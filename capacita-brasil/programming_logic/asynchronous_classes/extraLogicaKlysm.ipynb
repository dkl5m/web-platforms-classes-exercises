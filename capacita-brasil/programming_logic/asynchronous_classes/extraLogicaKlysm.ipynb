{
  "nbformat": 4,
  "nbformat_minor": 0,
  "metadata": {
    "colab": {
      "provenance": []
    },
    "kernelspec": {
      "name": "python3",
      "display_name": "Python 3"
    },
    "language_info": {
      "name": "python"
    }
  },
  "cells": [
    {
      "cell_type": "markdown",
      "source": [
        "Pratica extra Logica:\n",
        "\n",
        "Crie um jogo onde o usuario deve adivinhar um numero secreto gerado aleatoriamente entre 1 e 100. O programa deve fornecer dicas se o numero inserido pelo usuario eh maior ou menor que o numero secreto e permitir multiplas tentativas ateh que o usuario acerte. O jogo tambem deve tratar erros de entrada e mostrar o numero total de tentativas ao final."
      ],
      "metadata": {
        "id": "PHwhk8URDAox"
      }
    },
    {
      "cell_type": "code",
      "source": [
        "import random\n",
        "\n",
        "def guess_game():\n",
        "  print('Bem vindo ao jogo de adivinhacao. ')\n",
        "  print('Eu estou pensando em um numero entre 1 e 100. Qual eh este numero? ')\n",
        "\n",
        "  # Generate random integer between 1 and 100\n",
        "  secret_number = random.randint(1,100)\n",
        "  # Tries number\n",
        "  tries = 0\n",
        "  # Win boolean variable\n",
        "  win = False\n",
        "\n",
        "  while not win:\n",
        "    try:\n",
        "      # Ask the guessed number to user\n",
        "      guess_number = int(input('Digite o seu palpite (entre 1 e 100): '))\n",
        "\n",
        "      # Verify if guess is inside the valid interval\n",
        "      if guess_number < 1 or guess_number > 100:\n",
        "        print('Por favor, insira um valor entre 1 e 100.')\n",
        "        continue\n",
        "\n",
        "      # Iterate tries\n",
        "      tries += 1\n",
        "\n",
        "      # Tips for the user\n",
        "      if guess_number < secret_number:\n",
        "        print('O numero secreto eh maior. Tente novamente!')\n",
        "      elif guess_number > secret_number:\n",
        "        print('O numero secreto eh menor. Tente novamente!')\n",
        "      else:\n",
        "        print(f'Parabens! Voce acertou o numero secreto {secret_number}!')\n",
        "        print(f'Voce fez {tries} tentativas!')\n",
        "        win = True # Exits the loop when the user guesses correctly\n",
        "\n",
        "    except ValueError:\n",
        "      print('Por favor, insira um numero valido.')\n",
        "\n",
        "\n",
        "# Start game\n",
        "guess_game()"
      ],
      "metadata": {
        "colab": {
          "base_uri": "https://localhost:8080/"
        },
        "id": "qfHwIZiDULMN",
        "outputId": "b4641154-9f23-4962-f2c5-f09768bf8ad6"
      },
      "execution_count": null,
      "outputs": [
        {
          "output_type": "stream",
          "name": "stdout",
          "text": [
            "Bem vindo ao jogo de adivinhacao. \n",
            "Eu estou pensando em um numero entre 1 e 100. Qual eh este numero? \n",
            "Digite o seu palpite (entre 1 e 100): 5\n",
            "O numero secreto eh maior. Tente novamente!\n",
            "Digite o seu palpite (entre 1 e 100): 50\n",
            "O numero secreto eh maior. Tente novamente!\n",
            "Digite o seu palpite (entre 1 e 100): 75\n",
            "O numero secreto eh menor. Tente novamente!\n",
            "Digite o seu palpite (entre 1 e 100): 70\n",
            "O numero secreto eh menor. Tente novamente!\n"
          ]
        }
      ]
    }
  ]
}