{
  "nbformat": 4,
  "nbformat_minor": 0,
  "metadata": {
    "colab": {
      "provenance": []
    },
    "kernelspec": {
      "name": "python3",
      "display_name": "Python 3"
    },
    "language_info": {
      "name": "python"
    }
  },
  "cells": [
    {
      "cell_type": "markdown",
      "source": [
        "Pratica extra Logica:\n",
        "\n",
        "Crie um jogo onde o usuario deve adivinhar um numero secreto gerado aleatoriamente entre 1 e 100. O programa deve fornecer dicas se o numero inserido pelo usuario eh maior ou menor que o numero secreto e permitir multiplas tentativas ateh que o usuario acerte. O jogo tambem deve tratar erros de entrada e mostrar o numero total de tentativas ao final."
      ],
      "metadata": {
        "id": "PHwhk8URDAox"
      }
    },
    {
      "cell_type": "code",
      "execution_count": null,
      "metadata": {
        "id": "eOx246J8C8oK"
      },
      "outputs": [],
      "source": [
        "import random\n",
        "\n",
        "guessed_number = input('Adivinhe um numero entre 0 e 100: ')\n",
        "# Generate random integer between 1 and 100\n",
        "random_number = random.randint(1,100)"
      ]
    }
  ]
}