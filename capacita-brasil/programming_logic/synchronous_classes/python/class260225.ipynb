{
  "cells": [
    {
      "cell_type": "code",
      "source": [
        "# EXEMPLO: Dicionario\n",
        "\n",
        "alunos_dict = {}\n",
        "\n",
        "quantidade_alunos = int(input('Quantos alunos quer cadastrar? '))\n",
        "\n",
        "# cadastro\n",
        "for _ in range(quantidade_alunos):\n",
        "  nome = input('Nome do aluno: ')\n",
        "  nota = float(input('Nota do aluno: '))\n",
        "  alunos_dict[nome] = nota\n",
        "\n",
        "# nota aluno\n",
        "for nome, nota in alunos_dict.items():\n",
        "  print(f'O aluno {nome} tem a nota {nota}')\n",
        "\n",
        "# media turma\n",
        "media_nota_alunos = sum(alunos_dict.values())/quantidade_alunos\n",
        "print(f'Media da turma: {media_nota_alunos}.')\n",
        "\n",
        "# aprovacao alunos\n",
        "for nome,nota in alunos_dict.items():\n",
        "  if nota >= 7:\n",
        "    print(f'Aluno {nome} aprovado com nota {nota}.')\n",
        "  else\n",
        "    print(f'Aluno {nome} reprovado com nota {nota}.')\n"
      ],
      "metadata": {
        "id": "hwYguMQPq8iA"
      },
      "execution_count": null,
      "outputs": []
    },
    {
      "cell_type": "code",
      "source": [
        "# EXEMPLO: funcao 1\n",
        "\n",
        "def calcular_area(largura, altura):\n",
        "  area = largura*altura\n",
        "  return area\n",
        "\n",
        "largura = 10; altura = 5\n",
        "\n",
        "area = calcular_area(largura, altura)\n",
        "print(f'A area tem valor {area}.')\n"
      ],
      "metadata": {
        "colab": {
          "base_uri": "https://localhost:8080/"
        },
        "id": "fD-j5pFdz7iX",
        "outputId": "bbc078d4-3c2a-4971-df19-70bc06f4d3bf"
      },
      "execution_count": null,
      "outputs": [
        {
          "output_type": "stream",
          "name": "stdout",
          "text": [
            "A area tem valor 50.\n"
          ]
        }
      ]
    },
    {
      "cell_type": "code",
      "source": [
        "# EXEMPLO: funcao 2\n",
        "\n",
        "def imprimir_nome(nome):\n",
        "  print(f'Nome da pessoa: {nome}')\n",
        "\n",
        "nome = input('Digite seu nome: ')\n",
        "imprimir_nome(nome)"
      ],
      "metadata": {
        "colab": {
          "base_uri": "https://localhost:8080/"
        },
        "id": "lsKholEo1pQs",
        "outputId": "44892585-bc1d-4132-acb4-ad3062c3761a"
      },
      "execution_count": null,
      "outputs": [
        {
          "output_type": "stream",
          "name": "stdout",
          "text": [
            "Digite seu nome: Klysm\n",
            "Nome da pessoa: Klysm\n"
          ]
        }
      ]
    },
    {
      "cell_type": "code",
      "source": [
        "# EXEMPLO: funcao 3\n",
        "\n",
        "def par(valor):\n",
        "  if valor % 2 == 0:\n",
        "    return True\n",
        "  else:\n",
        "    return False\n",
        "\n",
        "valor = int(input('Digite um numero inteiro: '))\n",
        "\n",
        "resultado = par(valor)\n",
        "\n",
        "if resultado == True:\n",
        "  print('O numero eh par.')\n",
        "else:\n",
        "  print('O numero eh impar.')"
      ],
      "metadata": {
        "colab": {
          "base_uri": "https://localhost:8080/"
        },
        "id": "S0by1j6k4ofJ",
        "outputId": "ba4b506a-135e-4386-ebbe-5224fac5ef27"
      },
      "execution_count": null,
      "outputs": [
        {
          "output_type": "stream",
          "name": "stdout",
          "text": [
            "Digite um numero inteiro: 10\n",
            "O numero eh par.\n"
          ]
        }
      ]
    },
    {
      "cell_type": "code",
      "source": [
        "# EXEMPLO: import random 1\n",
        "\n",
        "import random\n",
        "\n",
        "r1 = random.random()\n",
        "r2 = random.random()*1000\n",
        "r3 = int(random.random()*1000)\n",
        "print(f'Numero randomico 1: {r1}.')\n",
        "print(f'Numero randomico 2: {r2}.')\n",
        "print(f'Numero randomico 3: {r3}.')\n",
        "\n",
        "r4 = random.randint(0,100)\n",
        "print(f'Numero randomico 4, em um intervalo: {r4}.')"
      ],
      "metadata": {
        "colab": {
          "base_uri": "https://localhost:8080/"
        },
        "id": "cMZnVurz61Fc",
        "outputId": "12d16c92-cba9-45be-db26-f1d41fcd6f24"
      },
      "execution_count": null,
      "outputs": [
        {
          "output_type": "stream",
          "name": "stdout",
          "text": [
            "Numero randomico 1: 0.06958573385661082.\n",
            "Numero randomico 2: 213.3704385561873.\n",
            "Numero randomico 3: 964.\n",
            "Numero randomico 4, em um intervalo: 30.\n"
          ]
        }
      ]
    },
    {
      "cell_type": "code",
      "source": [
        "# EXEMPLO: import random 2\n",
        "\n",
        "import random\n",
        "cores = [1,2,3]\n",
        "\n",
        "random.choice(cores)"
      ],
      "metadata": {
        "colab": {
          "base_uri": "https://localhost:8080/"
        },
        "id": "-FXrPAA5748K",
        "outputId": "7535265a-26be-4217-e702-1e7a733df3b3"
      },
      "execution_count": 1,
      "outputs": [
        {
          "output_type": "execute_result",
          "data": {
            "text/plain": [
              "2"
            ]
          },
          "metadata": {},
          "execution_count": 1
        }
      ]
    },
    {
      "cell_type": "code",
      "source": [
        "# EXEMPLO: import random 3\n",
        "import random\n",
        "numeros = [1, 2, 3, 4, 5]\n",
        "\n",
        "random.shuffle(numeros)\n",
        "print(f'{numeros}')"
      ],
      "metadata": {
        "colab": {
          "base_uri": "https://localhost:8080/"
        },
        "id": "q8JAqnCG883o",
        "outputId": "947ab5f3-0b4b-4a9f-fef5-5d992b2358f8"
      },
      "execution_count": null,
      "outputs": [
        {
          "output_type": "stream",
          "name": "stdout",
          "text": [
            "[5, 1, 2, 4, 3]\n"
          ]
        }
      ]
    }
  ],
  "metadata": {
    "colab": {
      "provenance": []
    },
    "kernelspec": {
      "display_name": "Python 3",
      "name": "python3"
    },
    "language_info": {
      "name": "python"
    }
  },
  "nbformat": 4,
  "nbformat_minor": 0
}